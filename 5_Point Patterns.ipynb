{
 "cells": [
  {
   "cell_type": "markdown",
   "metadata": {},
   "source": [
    "# Spatial Point Pattern Analysis in Python\n",
    "\n",
    "This notebook will demonstrate how to apply methods for Point Patter Analysis using different Python modules. It is based on data from http://insideairbnb.com/, a website that regularly scrapes AirBnB to enable analytics that AirBnB itself does not provide. \n",
    "\n",
    "###### Load some libraries"
   ]
  },
  {
   "cell_type": "code",
   "execution_count": null,
   "metadata": {},
   "outputs": [],
   "source": [
    "import pandas as pd # tabular data in Python\n",
    "import geopandas as gpd # extension to Pandas to work with geodata\n",
    "import urllib.request # download from the web\n",
    "import os.path # work with the local file system\n",
    "from shapely.geometry import Point # basic functions to work with vector geometries\n",
    "import matplotlib as mpl # plotting\n",
    "from matplotlib import pyplot as plt # some matplotlib convenience functions\n",
    "\n",
    "# make figures larger\n",
    "plt.rcParams['figure.figsize'] = [16, 16]"
   ]
  },
  {
   "cell_type": "markdown",
   "metadata": {},
   "source": [
    "#### Download some data\n",
    "\n",
    "Let's download data for the Copenhagen area at the end of May 2020 and end of June 2016 from http://insideairbnb.com/get-the-data.html. The goal will be to check whether we can see some kind of development in the AirBnB listings and their spatial distribution.\n",
    "\n",
    "For both of the files, we will first check whether they have been downloaded already; if not, download them. Start with 2020:"
   ]
  },
  {
   "cell_type": "code",
   "execution_count": null,
   "metadata": {},
   "outputs": [],
   "source": [
    "data2024 = 'Data/AirBnB-CPH-30-12-2024.csv'\n",
    "url   = 'https://data.insideairbnb.com/denmark/hovedstaden/copenhagen/2024-12-30/visualisations/listings.csv'\n",
    "if(os.path.isfile(fname)):\n",
    "    print(fname,'already downloaded.')\n",
    "else:\n",
    "    print('Downloading', fname)\n",
    "    urllib.request.urlretrieve(url, fname)\n",
    "    print('Done', fname)"
   ]
  },
  {
   "cell_type": "markdown",
   "metadata": {},
   "source": [
    "#### Load the data\n",
    "\n",
    "We'll load the data as a geodataframe first to do some filtering"
   ]
  },
  {
   "cell_type": "code",
   "execution_count": null,
   "metadata": {},
   "outputs": [],
   "source": [
    "df = pd.read_csv(data2024)\n",
    "listings24 = gpd.GeoDataFrame(df,\n",
    "    crs=('epsg:4326'), # set the coordinate reference system to WGS84 lat/lon\n",
    "    geometry=[Point(xy) for xy in zip(df.longitude, df.latitude)]) # construct the point geometries from lat/lon\n",
    "\n",
    "listings24.head()"
   ]
  },
  {
   "cell_type": "code",
   "execution_count": null,
   "metadata": {},
   "outputs": [],
   "source": [
    "listings20.plot()"
   ]
  },
  {
   "cell_type": "markdown",
   "metadata": {},
   "source": [
    "Repeat for 2016:"
   ]
  },
  {
   "cell_type": "code",
   "execution_count": null,
   "metadata": {},
   "outputs": [],
   "source": [
    "data2016 = 'Data/AirBnB-CPH-28-06-2016.csv'\n",
    "\n",
    "df = pd.read_csv(data2016)\n",
    "listings16 = gpd.GeoDataFrame(df,\n",
    "    crs=('epsg:4326'), # set the coordinate reference system to WGS84 lat/lon\n",
    "    geometry=[Point(xy) for xy in zip(df.longitude, df.latitude)]) # construct the point geometries from lat/lon\n",
    "\n",
    "listings16.head()"
   ]
  },
  {
   "cell_type": "code",
   "execution_count": null,
   "metadata": {},
   "outputs": [],
   "source": [
    "listings16.plot()"
   ]
  },
  {
   "cell_type": "markdown",
   "metadata": {},
   "source": [
    "Not easy to see any difference between 2024 and 2016, right? That's where point pattern analysis comes in! \n",
    "\n",
    "#### Filter data\n",
    "\n",
    "But first, let's filter the data a bit. We'll only look at listings where the whole place is for rent (not just a room inside):"
   ]
  },
  {
   "cell_type": "code",
   "execution_count": null,
   "metadata": {},
   "outputs": [],
   "source": [
    "listings16[\"room_type\"] == \"Entire home/apt\""
   ]
  },
  {
   "cell_type": "code",
   "execution_count": null,
   "metadata": {},
   "outputs": [],
   "source": [
    "print(len(listings16)) # how many listings before filtering?\n",
    "listings16 = listings16[listings16[\"room_type\"] == \"Entire home/apt\"]\n",
    "print(len(listings16)) # and after?\n",
    "listings16.head()"
   ]
  },
  {
   "cell_type": "markdown",
   "metadata": {},
   "source": [
    "Next, we'll remove places with less than 25 reviews - we are only interested in AirBnBs that get booked a lot:"
   ]
  },
  {
   "cell_type": "code",
   "execution_count": null,
   "metadata": {},
   "outputs": [],
   "source": [
    "print(len(listings16)) # how many listings before filtering?\n",
    "listings16 = listings16[listings16[\"number_of_reviews\"] > 25]\n",
    "print(len(listings16)) # and after?\n",
    "listings16.head()"
   ]
  },
  {
   "cell_type": "markdown",
   "metadata": {},
   "source": [
    "Let's do the same for 2020 (in one go):"
   ]
  },
  {
   "cell_type": "code",
   "execution_count": null,
   "metadata": {},
   "outputs": [],
   "source": [
    "print(len(listings24)) # how many listings before filtering?\n",
    "listings24 = listings24[(listings24[\"room_type\"] == \"Entire home/apt\") & \n",
    "                        (listings24[\"number_of_reviews\"] > 25)]\n",
    "print(len(listings24))\n",
    "listings24.head()"
   ]
  },
  {
   "cell_type": "markdown",
   "metadata": {},
   "source": [
    "### Reproject\n",
    "\n",
    "A lot of what we are going to do is going to be based on Euclidian distance. Since lat/lon coordinates are spherical (i.e. they are in degrees, describing a position on a sphere), we'll project the coordinates to a planar coordinate reference system – [UTM Zone 32 North](https://epsg.io/25832), specifically:"
   ]
  },
  {
   "cell_type": "code",
   "execution_count": null,
   "metadata": {},
   "outputs": [],
   "source": [
    "print(listings16.crs)\n",
    "print(listings24.crs)\n",
    "\n",
    "listings16 = listings16.to_crs(epsg=25832)\n",
    "listings24 = listings24.to_crs(epsg=25832)\n",
    "\n",
    "print(listings16.crs)\n",
    "print(listings24.crs)"
   ]
  },
  {
   "cell_type": "code",
   "execution_count": null,
   "metadata": {},
   "outputs": [],
   "source": [
    "listings16.head()"
   ]
  },
  {
   "cell_type": "markdown",
   "metadata": {},
   "source": [
    "Notice how the numbers in the geometry column are now different? They have been transformed to UTM32N!"
   ]
  },
  {
   "cell_type": "markdown",
   "metadata": {},
   "source": [
    "# Mean centre"
   ]
  },
  {
   "cell_type": "markdown",
   "metadata": {},
   "source": [
    "In Geopandas, we can extract the x and y components of the coordinates like so:"
   ]
  },
  {
   "cell_type": "code",
   "execution_count": null,
   "metadata": {},
   "outputs": [],
   "source": [
    "listings16.geometry.x"
   ]
  },
  {
   "cell_type": "markdown",
   "metadata": {},
   "source": [
    "So we can easily take the means and turn them into a new point:"
   ]
  },
  {
   "cell_type": "code",
   "execution_count": null,
   "metadata": {},
   "outputs": [],
   "source": [
    "mean_centre_16 = Point((listings16.geometry.x.mean(), listings16.geometry.y.mean()))\n",
    "mean_centre_24 = Point((listings24.geometry.x.mean(), listings24.geometry.y.mean()))"
   ]
  },
  {
   "cell_type": "markdown",
   "metadata": {},
   "source": [
    "Let's show them on a map. First, load the outline of Copenhagen municipality (plus Frederiksberg) as a reference:"
   ]
  },
  {
   "cell_type": "code",
   "execution_count": null,
   "metadata": {},
   "outputs": [],
   "source": [
    "fname = 'CPH.geojson'\n",
    "url   = 'https://gist.github.com/crstn/bec5259ac8602bbc8961ab6dfc18e5cf/raw/489d981ec22dda1b13e676f4662732e7a139504e/CPH.geojson'\n",
    "\n",
    "if(os.path.isfile(fname)):\n",
    "    print(fname,'already downloaded.')\n",
    "else:\n",
    "    print('Downloading', fname)\n",
    "    urllib.request.urlretrieve(url, fname)\n",
    "    print('Done', fname)\n",
    "\n",
    "cph = gpd.read_file(fname)\n",
    "cph.plot()"
   ]
  },
  {
   "cell_type": "markdown",
   "metadata": {},
   "source": [
    "Also project this one to UTM32N:"
   ]
  },
  {
   "cell_type": "code",
   "execution_count": null,
   "metadata": {},
   "outputs": [],
   "source": [
    "cph = cph.to_crs(epsg=25832)\n",
    "cph.crs"
   ]
  },
  {
   "cell_type": "markdown",
   "metadata": {},
   "source": [
    "Plotting is easier when we turn the mean centres into Geodataframes:"
   ]
  },
  {
   "cell_type": "code",
   "execution_count": null,
   "metadata": {},
   "outputs": [],
   "source": [
    "mean_centre_16_gdf = gpd.GeoDataFrame(crs=('epsg:25832'), geometry=[mean_centre_16])\n",
    "mean_centre_24_gdf = gpd.GeoDataFrame(crs=('epsg:25832'), geometry=[mean_centre_24])"
   ]
  },
  {
   "cell_type": "markdown",
   "metadata": {},
   "source": [
    "Btw, this is one way to make a simlple map with multiple layers with Geopandas and Matplotlib:"
   ]
  },
  {
   "cell_type": "code",
   "execution_count": null,
   "metadata": {},
   "outputs": [],
   "source": [
    "base = cph.plot(color='white', edgecolor='black')\n",
    "mean_centre_16_gdf.plot(ax=base, marker='o', color='red', markersize=25);\n",
    "mean_centre_24_gdf.plot(ax=base, marker='x', color='blue', markersize=25);"
   ]
  },
  {
   "cell_type": "markdown",
   "metadata": {},
   "source": [
    "Not very useful. Let's check out whether the AirBnBs are more concentrated in the center in 2024:\n",
    "\n",
    "# Standard distance"
   ]
  },
  {
   "cell_type": "code",
   "execution_count": null,
   "metadata": {},
   "outputs": [],
   "source": [
    "standardDistance16 = (listings16.distance(mean_centre_16)).mean()\n",
    "standardDistance16"
   ]
  },
  {
   "cell_type": "code",
   "execution_count": null,
   "metadata": {},
   "outputs": [],
   "source": [
    "standardDistance24 = (listings16.distance(mean_centre_24)).mean()\n",
    "standardDistance24"
   ]
  },
  {
   "cell_type": "markdown",
   "metadata": {},
   "source": [
    "Almost the same... we can still plot them, though:"
   ]
  },
  {
   "cell_type": "code",
   "execution_count": null,
   "metadata": {},
   "outputs": [],
   "source": [
    "standardCircle16 = mean_centre_16_gdf.buffer(standardDistance16)\n",
    "standardCircle24 = mean_centre_24_gdf.buffer(standardDistance24)"
   ]
  },
  {
   "cell_type": "markdown",
   "metadata": {},
   "source": [
    "Same plot as before, but with the circle:"
   ]
  },
  {
   "cell_type": "code",
   "execution_count": null,
   "metadata": {},
   "outputs": [],
   "source": [
    "base = cph.plot(color='white', edgecolor='black')\n",
    "\n",
    "mean_centre_16_gdf.plot(ax=base, marker='o', color='red', markersize=25);\n",
    "standardCircle16.plot(ax=base, color='none', edgecolor='red');\n",
    "\n",
    "mean_centre_24_gdf.plot(ax=base, marker='x', color='blue', markersize=25);\n",
    "standardCircle24.plot(ax=base, color='none', edgecolor='blue');"
   ]
  },
  {
   "cell_type": "markdown",
   "metadata": {},
   "source": [
    "# Intensity\n",
    "\n",
    "We'll calculate the events (AirBnBs, in this case) per aereal unit. To do that, we first need to know how large the study area is:"
   ]
  },
  {
   "cell_type": "code",
   "execution_count": null,
   "metadata": {},
   "outputs": [],
   "source": [
    "area_cph = cph.area[0]\n",
    "area_cph"
   ]
  },
  {
   "cell_type": "markdown",
   "metadata": {},
   "source": [
    "These are square meters (because UTM is in meters) in scientific notation, let's convert it to square kilometers:"
   ]
  },
  {
   "cell_type": "code",
   "execution_count": null,
   "metadata": {},
   "outputs": [],
   "source": [
    "area_cph = area_cph / (1000 * 1000)\n",
    "print(area_cph)"
   ]
  },
  {
   "cell_type": "markdown",
   "metadata": {},
   "source": [
    "Now simply devide the number of listings by that area:"
   ]
  },
  {
   "cell_type": "code",
   "execution_count": null,
   "metadata": {},
   "outputs": [],
   "source": [
    "intensity16 = len(listings16) / area_cph\n",
    "print(intensity16)\n",
    "\n",
    "intensity24 = len(listings24) / area_cph\n",
    "print(intensity24)"
   ]
  },
  {
   "cell_type": "markdown",
   "metadata": {},
   "source": [
    "So the intensity _did_ decrease. But how are the events distributed spatially? Let's visualize some quadrats:"
   ]
  },
  {
   "cell_type": "code",
   "execution_count": null,
   "metadata": {},
   "outputs": [],
   "source": [
    "p = plt.hist2d(listings16.geometry.x, listings16.geometry.y, bins=50)\n",
    "plt.colorbar()\n",
    "plt.show()"
   ]
  },
  {
   "cell_type": "code",
   "execution_count": null,
   "metadata": {},
   "outputs": [],
   "source": [
    "p = plt.hist2d(listings24.geometry.x, listings24.geometry.y, bins=50)\n",
    "plt.colorbar()\n",
    "plt.show()"
   ]
  },
  {
   "cell_type": "markdown",
   "metadata": {},
   "source": [
    "# Quadrat statistic\n",
    "\n",
    "Let's check out quadrat-based methods using complete spatial randomness (CSR). We'll only do this for the 2020 data now."
   ]
  },
  {
   "cell_type": "code",
   "execution_count": null,
   "metadata": {},
   "outputs": [],
   "source": [
    "import libpysal as ps\n",
    "import numpy as np\n",
    "from pointpats import PointPattern, Window, as_window\n",
    "from pointpats.distance_statistics import k\n",
    "from pointpats import PoissonPointProcess as csr\n",
    "import pointpats.quadrat_statistics as qs"
   ]
  },
  {
   "cell_type": "markdown",
   "metadata": {},
   "source": [
    "Pointpats needs to create a specifc PointPattern object, which we'll creatre from our AirBnB locations:"
   ]
  },
  {
   "cell_type": "code",
   "execution_count": null,
   "metadata": {},
   "outputs": [],
   "source": [
    "airbnb_points_24 = np.array([event for event in zip(listings24.geometry.x, listings24.geometry.y)])\n",
    "airbnb_points_24"
   ]
  },
  {
   "cell_type": "markdown",
   "metadata": {},
   "source": [
    "Turn into point pattern and plot:"
   ]
  },
  {
   "cell_type": "code",
   "execution_count": null,
   "metadata": {},
   "outputs": [],
   "source": [
    "pp_24 = PointPattern(points = airbnb_points_24, \n",
    "                  window=Window([list(x.exterior.coords) for x in cph.geometry[0].geoms]))\n",
    "\n",
    "pp_24.plot(window=True,title='AirBnBs 2024')"
   ]
  },
  {
   "cell_type": "code",
   "execution_count": null,
   "metadata": {},
   "outputs": [],
   "source": [
    "pp_24.summary()"
   ]
  },
  {
   "cell_type": "markdown",
   "metadata": {},
   "source": [
    "Now we can generate the quadrat statistic:"
   ]
  },
  {
   "cell_type": "code",
   "execution_count": null,
   "metadata": {},
   "outputs": [],
   "source": [
    "q_r = qs.QStatistic(pp_24, shape= \"rectangle\" ,nx = 20, ny = 20)\n",
    "q_r.plot()"
   ]
  },
  {
   "cell_type": "markdown",
   "metadata": {},
   "source": [
    "Now we'll compare that with 10 completely random point patterns within our window: \n",
    "\n",
    "_(You would normally do more, e.g. 100 or even 1000, but that would take quite long with this number of points.)_\n",
    "\n",
    "### Let's take a break while this is running."
   ]
  },
  {
   "cell_type": "code",
   "execution_count": null,
   "metadata": {},
   "outputs": [],
   "source": [
    "csr_process = csr(pp_24.window, pp_24.n, 10, asPP=True)"
   ]
  },
  {
   "cell_type": "markdown",
   "metadata": {},
   "source": [
    "Let's take a look at one of the randomly generated point patterns:"
   ]
  },
  {
   "cell_type": "code",
   "execution_count": null,
   "metadata": {},
   "outputs": [],
   "source": [
    "csr_process.realizations[0].plot()"
   ]
  },
  {
   "cell_type": "code",
   "execution_count": null,
   "metadata": {},
   "outputs": [],
   "source": [
    "q_r_empirical = qs.QStatistic(pp_24, shape= \"rectangle\",nx = 20, ny = 20, realizations = csr_process)"
   ]
  },
  {
   "cell_type": "code",
   "execution_count": null,
   "metadata": {},
   "outputs": [],
   "source": [
    "print(q_r_empirical.chi2)\n",
    "print(q_r_empirical.chi2_realizations)\n",
    "print(q_r_empirical.chi2_pvalue)"
   ]
  },
  {
   "cell_type": "markdown",
   "metadata": {},
   "source": [
    "We can safely disregard the null hypothesis that the AirBnBs are not clustered."
   ]
  },
  {
   "cell_type": "markdown",
   "metadata": {},
   "source": [
    "## Kernel Density Estimation\n",
    "\n",
    "Link to interactive KDE tutorial: https://mathisonian.github.io/kde/"
   ]
  },
  {
   "cell_type": "code",
   "execution_count": null,
   "metadata": {},
   "outputs": [],
   "source": [
    "import seaborn as sns"
   ]
  },
  {
   "cell_type": "markdown",
   "metadata": {},
   "source": [
    "Documentation for seaborn's KDE plot function: https://seaborn.pydata.org/generated/seaborn.kdeplot.html"
   ]
  },
  {
   "cell_type": "code",
   "execution_count": null,
   "metadata": {},
   "outputs": [],
   "source": [
    "sns.kdeplot(x=listings24.geometry.x, \n",
    "            y=listings24.geometry.y, \n",
    "            fill=True, \n",
    "            thresh=0, \n",
    "            levels=50,\n",
    "            cmap=\"magma\",\n",
    "            bw_adjust = 0.5)"
   ]
  },
  {
   "cell_type": "markdown",
   "metadata": {},
   "source": [
    "Play around with the ```bw_adjust``` parameter!\n",
    "\n",
    "We can also plot the KDE together with other layers for context:"
   ]
  },
  {
   "cell_type": "code",
   "execution_count": null,
   "metadata": {},
   "outputs": [],
   "source": [
    "f, ax = plt.subplots(1, figsize=(16, 16))\n",
    "\n",
    "sns.kdeplot(x=listings24.geometry.x, \n",
    "            y=listings24.geometry.y, \n",
    "            fill=True,             \n",
    "            thresh=0, \n",
    "            levels=50,\n",
    "            cmap=\"Purples\",\n",
    "            bw_adjust = .4,\n",
    "            ax=ax);\n",
    "\n",
    "cph.plot(edgecolor='grey', color=\"none\", linewidth=0.8, ax=ax)\n",
    "\n",
    "ax.set_axis_off()\n",
    "plt.axis('equal')\n",
    "plt.show()"
   ]
  },
  {
   "cell_type": "markdown",
   "metadata": {},
   "source": [
    "### Average nearest neighbor distance\n",
    "\n",
    "Run the following block a couple of times. What happens here?"
   ]
  },
  {
   "cell_type": "code",
   "execution_count": null,
   "metadata": {},
   "outputs": [],
   "source": [
    "Do = pp_24.mean_nnd\n",
    "De = csr(pp_24.window, pp_24.n, 1, asPP=True).realizations[0].mean_nnd\n",
    "\n",
    "print('NND =', str(Do), '/', str(De), '=', str(Do/De))"
   ]
  },
  {
   "cell_type": "markdown",
   "metadata": {},
   "source": [
    "### Task\n",
    "\n",
    "Repeat the above analyses for the 2016 data. What changes do you observe from 2016 to 2024?"
   ]
  },
  {
   "cell_type": "code",
   "execution_count": null,
   "metadata": {},
   "outputs": [],
   "source": []
  }
 ],
 "metadata": {
  "kernelspec": {
   "display_name": "Python 3 (ipykernel)",
   "language": "python",
   "name": "python3"
  },
  "language_info": {
   "codemirror_mode": {
    "name": "ipython",
    "version": 3
   },
   "file_extension": ".py",
   "mimetype": "text/x-python",
   "name": "python",
   "nbconvert_exporter": "python",
   "pygments_lexer": "ipython3",
   "version": "3.10.16"
  }
 },
 "nbformat": 4,
 "nbformat_minor": 4
}

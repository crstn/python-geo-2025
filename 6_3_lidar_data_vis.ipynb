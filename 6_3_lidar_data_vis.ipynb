{
 "cells": [
  {
   "cell_type": "markdown",
   "id": "d5549d16",
   "metadata": {},
   "source": [
    "**Visualizing LiDAR data in 3D **\n",
    "\n",
    "Uncomment the following line to install [geemap](https://geemap.org) if needed."
   ]
  },
  {
   "cell_type": "code",
   "execution_count": null,
   "id": "42a460ee",
   "metadata": {},
   "outputs": [],
   "source": [
    "!pip install geemap[lidar] open3d laspy"
   ]
  },
  {
   "cell_type": "code",
   "execution_count": null,
   "id": "9fe3afab",
   "metadata": {},
   "outputs": [],
   "source": [
    "import os\n",
    "import geemap"
   ]
  },
  {
   "cell_type": "markdown",
   "id": "1c9b79e7",
   "metadata": {},
   "source": [
    "Read the data both in LAS or LAZ formats"
   ]
  },
  {
   "cell_type": "code",
   "execution_count": null,
   "id": "a1cf5b12",
   "metadata": {},
   "outputs": [],
   "source": [
    "filename = 'Data/CPH.laz'"
   ]
  },
  {
   "cell_type": "markdown",
   "id": "379815de",
   "metadata": {},
   "source": [
    "Read the LiDAR data"
   ]
  },
  {
   "cell_type": "code",
   "execution_count": null,
   "id": "d25ed864",
   "metadata": {},
   "outputs": [],
   "source": [
    "las = geemap.read_lidar(filename)"
   ]
  },
  {
   "cell_type": "markdown",
   "id": "3eccb478",
   "metadata": {},
   "source": [
    "The LAS header."
   ]
  },
  {
   "cell_type": "code",
   "execution_count": null,
   "id": "7a491e06",
   "metadata": {},
   "outputs": [],
   "source": [
    "las.header"
   ]
  },
  {
   "cell_type": "markdown",
   "id": "a3166bfd",
   "metadata": {},
   "source": [
    "The number of points."
   ]
  },
  {
   "cell_type": "code",
   "execution_count": null,
   "id": "fdbf1d6b",
   "metadata": {},
   "outputs": [],
   "source": [
    "las.header.point_count"
   ]
  },
  {
   "cell_type": "markdown",
   "id": "3fe06146",
   "metadata": {},
   "source": [
    "The list of features."
   ]
  },
  {
   "cell_type": "code",
   "execution_count": null,
   "id": "6d8e6b8d",
   "metadata": {},
   "outputs": [],
   "source": [
    "list(las.point_format.dimension_names)"
   ]
  },
  {
   "cell_type": "markdown",
   "id": "4b74b74e",
   "metadata": {},
   "source": [
    "Inspect data."
   ]
  },
  {
   "cell_type": "code",
   "execution_count": null,
   "id": "50422ced",
   "metadata": {},
   "outputs": [],
   "source": [
    "las.X"
   ]
  },
  {
   "cell_type": "code",
   "execution_count": null,
   "id": "30efbce5",
   "metadata": {},
   "outputs": [],
   "source": [
    "las.Y"
   ]
  },
  {
   "cell_type": "code",
   "execution_count": null,
   "id": "83f68efa",
   "metadata": {},
   "outputs": [],
   "source": [
    "las.Z"
   ]
  },
  {
   "cell_type": "code",
   "execution_count": null,
   "id": "dec558a7",
   "metadata": {},
   "outputs": [],
   "source": [
    "las.intensity"
   ]
  },
  {
   "cell_type": "markdown",
   "id": "382d4f82",
   "metadata": {},
   "source": [
    "Visualize LiDAR data using the [pyvista](https://github.com/pyvista/pyvista) backend."
   ]
  },
  {
   "cell_type": "code",
   "execution_count": null,
   "id": "98c2f5ae",
   "metadata": {},
   "outputs": [],
   "source": [
    "geemap.view_lidar(filename, cmap='terrain', backend='pyvista')"
   ]
  },
  {
   "cell_type": "markdown",
   "id": "6a10952b",
   "metadata": {},
   "source": [
    "Visualize LiDAR data using the [ipygany](https://github.com/QuantStack/ipygany) backend."
   ]
  },
  {
   "cell_type": "code",
   "execution_count": null,
   "id": "ec38a97d",
   "metadata": {},
   "outputs": [],
   "source": [
    "geemap.view_lidar(filename, backend='ipygany', background='white')"
   ]
  },
  {
   "cell_type": "markdown",
   "id": "7a262b14",
   "metadata": {},
   "source": [
    "Visualize LiDAR data using the [panel](https://github.com/holoviz/panel) backend."
   ]
  },
  {
   "cell_type": "code",
   "execution_count": null,
   "id": "0c8b175d",
   "metadata": {},
   "outputs": [],
   "source": [
    "geemap.view_lidar(filename, cmap='terrain', backend='panel', background='white')"
   ]
  },
  {
   "cell_type": "markdown",
   "id": "331dfc4b",
   "metadata": {},
   "source": [
    "Visualize LiDAR data using the [open3d](http://www.open3d.org) backend."
   ]
  },
  {
   "cell_type": "code",
   "execution_count": null,
   "id": "14bbf0ff",
   "metadata": {},
   "outputs": [],
   "source": []
  }
 ],
 "metadata": {
  "kernelspec": {
   "display_name": "Python 3 (ipykernel)",
   "language": "python",
   "name": "python3"
  },
  "language_info": {
   "codemirror_mode": {
    "name": "ipython",
    "version": 3
   },
   "file_extension": ".py",
   "mimetype": "text/x-python",
   "name": "python",
   "nbconvert_exporter": "python",
   "pygments_lexer": "ipython3",
   "version": "3.9.16"
  }
 },
 "nbformat": 4,
 "nbformat_minor": 5
}
